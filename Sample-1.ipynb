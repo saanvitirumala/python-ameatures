{
 "metadata": {
  "language_info": {
   "codemirror_mode": {
    "name": "ipython",
    "version": 3
   },
   "file_extension": ".py",
   "mimetype": "text/x-python",
   "name": "python",
   "nbconvert_exporter": "python",
   "pygments_lexer": "ipython3",
   "version": "3.8.3-final"
  },
  "orig_nbformat": 2,
  "kernelspec": {
   "name": "python3",
   "display_name": "Python 3"
  }
 },
 "nbformat": 4,
 "nbformat_minor": 2,
 "cells": [
  {
   "cell_type": "code",
   "execution_count": 16,
   "metadata": {},
   "outputs": [
    {
     "output_type": "stream",
     "name": "stdout",
     "text": [
      "My first python code\n"
     ]
    }
   ],
   "source": [
    "print(\"My first python code\")"
   ]
  },
  {
   "cell_type": "code",
   "execution_count": 17,
   "metadata": {},
   "outputs": [
    {
     "output_type": "stream",
     "name": "stdout",
     "text": [
      "10\n"
     ]
    }
   ],
   "source": [
    "x=5\n",
    "y=10\n",
    "a=x+y\n",
    "print(y)"
   ]
  },
  {
   "cell_type": "code",
   "execution_count": 18,
   "metadata": {},
   "outputs": [
    {
     "output_type": "stream",
     "name": "stdout",
     "text": [
      "11\n"
     ]
    }
   ],
   "source": [
    "\n",
    "z=10\n",
    "y=1\n",
    "x=2\n",
    "\n",
    "\n",
    "z -=x   # z=z-x\n",
    "y  +=x  # y=y+x\n",
    "\n",
    "a= z+y  #  (z-x)+(y+z)\n",
    "\n",
    "b= z*y  # (z-x)*(y+x)\n",
    "print(a)\n",
    "\n"
   ]
  },
  {
   "cell_type": "code",
   "execution_count": 1,
   "metadata": {},
   "outputs": [
    {
     "output_type": "stream",
     "name": "stdout",
     "text": [
      "Line 1 - Value of c is  31\nLine 2 - Value of c is  52\nLine 3 - Value of c is  1092\nLine 4 - Value of c is  52.0\nLine 5 - Value of c is  2\nLine 6 - Value of c is  2097152\nLine 7 - Value of c is  4755\nLine 8 - Value of c is  189\nLine 9 - Value of c is  34\n"
     ]
    }
   ],
   "source": [
    "a = 21\n",
    "b = 10\n",
    "c = 0\n",
    "\n",
    "c = a + b\n",
    "print (\"Line 1 - Value of c is \", c)\n",
    "\n",
    "# c += a\n",
    "\n",
    "c=c+a\n",
    "\n",
    "print (\"Line 2 - Value of c is \", c)\n",
    "\n",
    "#c *= a\n",
    "\n",
    "c=c*a\n",
    "print (\"Line 3 - Value of c is \", c)\n",
    "\n",
    "\n",
    "#c /= a\n",
    "c=c/a\n",
    "print (\"Line 4 - Value of c is \", c)\n",
    "\n",
    "\n",
    "c=2\n",
    "#c %= a\n",
    "\n",
    "c=c%a\n",
    "print (\"Line 5 - Value of c is \", c)\n",
    "\n",
    "#c **= a\n",
    "c=c**a\n",
    "print (\"Line 6 - Value of c is \", c)\n",
    "\n",
    "c //= a\n",
    "c= c//a\n",
    "print (\"Line 7 - Value of c is \", c)\n",
    "\n",
    "a = 21\n",
    "b = 10\n",
    "\n",
    "#b *=a\n",
    "b= b*a\n",
    "c = b - a\n",
    "print (\"Line 8 - Value of c is \", c)\n",
    "\n",
    "a = 12\n",
    "b = 10\n",
    "\n",
    "#b +=a\n",
    "b= b+a\n",
    "c = a + b\n",
    "print (\"Line 9 - Value of c is \", c)\n",
    "\n",
    "\n",
    "\n"
   ]
  },
  {
   "cell_type": "code",
   "execution_count": 2,
   "metadata": {},
   "outputs": [
    {
     "output_type": "stream",
     "name": "stdout",
     "text": [
      "The Value of the Total after using += Operator is:  28\n55\n"
     ]
    }
   ],
   "source": [
    "a = 7\n",
    "Total = 21\n",
    "#Total += a\n",
    "Total=Total+a\n",
    "print(\"The Value of the Total after using += Operator is: \", Total)\n",
    "\n",
    "\n",
    "x=25\n",
    "y=30\n",
    "\n",
    "print(x+y)\n",
    "\n",
    "#test\n"
   ]
  }
 ]
}