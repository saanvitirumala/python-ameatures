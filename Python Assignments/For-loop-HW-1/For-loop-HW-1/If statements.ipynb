{
 "metadata": {
  "language_info": {
   "codemirror_mode": {
    "name": "ipython",
    "version": 3
   },
   "file_extension": ".py",
   "mimetype": "text/x-python",
   "name": "python",
   "nbconvert_exporter": "python",
   "pygments_lexer": "ipython3",
   "version": "3.8.5-final"
  },
  "orig_nbformat": 2,
  "kernelspec": {
   "name": "python3",
   "display_name": "Python 3",
   "language": "python"
  }
 },
 "nbformat": 4,
 "nbformat_minor": 2,
 "cells": [
  {
   "cell_type": "code",
   "execution_count": 37,
   "metadata": {},
   "outputs": [
    {
     "output_type": "stream",
     "name": "stdout",
     "text": [
      "2 4 6 8 10 12 14 16 18 20 22 24 26 28 30 32 34 36 38 40 42 44 46 48 50 52 54 56 58 60 62 64 66 68 70 72 74 76 78 80 82 84 86 88 90 92 94 96 98 1 3 5 7 9 11 13 15 17 19 21 23 25 27 29 31 33 35 37 39 41 43 45 47 49 51 53 55 57 59 61 63 65 67 69 71 73 75 77 79 81 83 85 87 89 91 93 95 97 99 1\n2\n7 is divisible by 7\n14 is divisible by 7\n21 is divisible by 7\n28 is divisible by 7\n35 is divisible by 7\n42 is divisible by 7\n49 is divisible by 7\n56 is divisible by 7\n63 is divisible by 7\n70 is divisible by 7\n77 is divisible by 7\n84 is divisible by 7\n91 is divisible by 7\n98 is divisible by 7\n105 is divisible by 7\n112 is divisible by 7\n119 is divisible by 7\n126 is divisible by 7\n133 is divisible by 7\n140 is divisible by 7\n147 is divisible by 7\n154 is divisible by 7\n161 is divisible by 7\n168 is divisible by 7\n175 is divisible by 7\n182 is divisible by 7\n189 is divisible by 7\n196 is divisible by 7\n203 is divisible by 7\n210 is divisible by 7\n217 is divisible by 7\n224 is divisible by 7\n231 is divisible by 7\n238 is divisible by 7\n245 is divisible by 7\n252 is divisible by 7\n259 is divisible by 7\n266 is divisible by 7\n273 is divisible by 7\n280 is divisible by 7\n287 is divisible by 7\n294 is divisible by 7\n301 is divisible by 7\n308 is divisible by 7\n315 is divisible by 7\n322 is divisible by 7\n329 is divisible by 7\n336 is divisible by 7\n343 is divisible by 7\n350 is divisible by 7\n357 is divisible by 7\n364 is divisible by 7\n371 is divisible by 7\n378 is divisible by 7\n385 is divisible by 7\n392 is divisible by 7\n399 is divisible by 7\n406 is divisible by 7\n413 is divisible by 7\n420 is divisible by 7\n427 is divisible by 7\n434 is divisible by 7\n441 is divisible by 7\n448 is divisible by 7\n455 is divisible by 7\n462 is divisible by 7\n469 is divisible by 7\n476 is divisible by 7\n483 is divisible by 7\n490 is divisible by 7\n497 is divisible by 7\n504 is divisible by 7\n511 is divisible by 7\n518 is divisible by 7\n525 is divisible by 7\n532 is divisible by 7\n539 is divisible by 7\n546 is divisible by 7\n553 is divisible by 7\n560 is divisible by 7\n567 is divisible by 7\n574 is divisible by 7\n581 is divisible by 7\n588 is divisible by 7\n595 is divisible by 7\n602 is divisible by 7\n609 is divisible by 7\n616 is divisible by 7\n623 is divisible by 7\n630 is divisible by 7\n637 is divisible by 7\n644 is divisible by 7\n651 is divisible by 7\n658 is divisible by 7\n665 is divisible by 7\n672 is divisible by 7\n679 is divisible by 7\n686 is divisible by 7\n693 is divisible by 7\n700 is divisible by 7\n707 is divisible by 7\n714 is divisible by 7\n721 is divisible by 7\n728 is divisible by 7\n735 is divisible by 7\n742 is divisible by 7\n749 is divisible by 7\n756 is divisible by 7\n763 is divisible by 7\n770 is divisible by 7\n777 is divisible by 7\n784 is divisible by 7\n791 is divisible by 7\n798 is divisible by 7\n805 is divisible by 7\n812 is divisible by 7\n819 is divisible by 7\n826 is divisible by 7\n833 is divisible by 7\n840 is divisible by 7\n847 is divisible by 7\n854 is divisible by 7\n861 is divisible by 7\n868 is divisible by 7\n875 is divisible by 7\n882 is divisible by 7\n889 is divisible by 7\n896 is divisible by 7\n903 is divisible by 7\n910 is divisible by 7\n917 is divisible by 7\n924 is divisible by 7\n931 is divisible by 7\n938 is divisible by 7\n945 is divisible by 7\n952 is divisible by 7\n959 is divisible by 7\n966 is divisible by 7\n973 is divisible by 7\n980 is divisible by 7\n987 is divisible by 7\n994 is divisible by 7\n5 is a multiple of 5\n10 is a multiple of 5\n15 is a multiple of 5\n20 is a multiple of 5\n25 is a multiple of 5\n30 is a multiple of 5\n35 is a multiple of 5\n40 is a multiple of 5\n45 is a multiple of 5\n50 is a multiple of 5\n55 is a multiple of 5\n60 is a multiple of 5\n65 is a multiple of 5\n70 is a multiple of 5\n75 is a multiple of 5\n80 is a multiple of 5\n85 is a multiple of 5\n90 is a multiple of 5\n95 is a multiple of 5\n100 is a multiple of 5\n105 is a multiple of 5\n110 is a multiple of 5\n115 is a multiple of 5\n120 is a multiple of 5\n125 is a multiple of 5\n130 is a multiple of 5\n135 is a multiple of 5\n140 is a multiple of 5\n145 is a multiple of 5\n150 is a multiple of 5\n155 is a multiple of 5\n160 is a multiple of 5\n165 is a multiple of 5\n170 is a multiple of 5\n175 is a multiple of 5\n180 is a multiple of 5\n185 is a multiple of 5\n190 is a multiple of 5\n195 is a multiple of 5\n200 is a multiple of 5\n205 is a multiple of 5\n210 is a multiple of 5\n215 is a multiple of 5\n220 is a multiple of 5\n225 is a multiple of 5\n230 is a multiple of 5\n235 is a multiple of 5\n240 is a multiple of 5\n245 is a multiple of 5\n250 is a multiple of 5\n255 is a multiple of 5\n260 is a multiple of 5\n265 is a multiple of 5\n270 is a multiple of 5\n275 is a multiple of 5\n280 is a multiple of 5\n285 is a multiple of 5\n290 is a multiple of 5\n295 is a multiple of 5\n300 is a multiple of 5\n305 is a multiple of 5\n310 is a multiple of 5\n315 is a multiple of 5\n320 is a multiple of 5\n325 is a multiple of 5\n330 is a multiple of 5\n335 is a multiple of 5\n340 is a multiple of 5\n345 is a multiple of 5\n350 is a multiple of 5\n355 is a multiple of 5\n360 is a multiple of 5\n365 is a multiple of 5\n370 is a multiple of 5\n375 is a multiple of 5\n380 is a multiple of 5\n385 is a multiple of 5\n390 is a multiple of 5\n395 is a multiple of 5\n400 is a multiple of 5\n405 is a multiple of 5\n410 is a multiple of 5\n415 is a multiple of 5\n420 is a multiple of 5\n425 is a multiple of 5\n430 is a multiple of 5\n435 is a multiple of 5\n440 is a multiple of 5\n445 is a multiple of 5\n450 is a multiple of 5\n455 is a multiple of 5\n460 is a multiple of 5\n465 is a multiple of 5\n470 is a multiple of 5\n475 is a multiple of 5\n480 is a multiple of 5\n485 is a multiple of 5\n490 is a multiple of 5\n495 is a multiple of 5\n500 is a multiple of 5\n505 is a multiple of 5\n510 is a multiple of 5\n515 is a multiple of 5\n520 is a multiple of 5\n525 is a multiple of 5\n530 is a multiple of 5\n535 is a multiple of 5\n540 is a multiple of 5\n545 is a multiple of 5\n550 is a multiple of 5\n555 is a multiple of 5\n560 is a multiple of 5\n565 is a multiple of 5\n570 is a multiple of 5\n575 is a multiple of 5\n580 is a multiple of 5\n585 is a multiple of 5\n590 is a multiple of 5\n595 is a multiple of 5\n600 is a multiple of 5\n605 is a multiple of 5\n610 is a multiple of 5\n615 is a multiple of 5\n620 is a multiple of 5\n625 is a multiple of 5\n630 is a multiple of 5\n635 is a multiple of 5\n640 is a multiple of 5\n645 is a multiple of 5\n650 is a multiple of 5\n655 is a multiple of 5\n660 is a multiple of 5\n665 is a multiple of 5\n670 is a multiple of 5\n675 is a multiple of 5\n680 is a multiple of 5\n685 is a multiple of 5\n690 is a multiple of 5\n695 is a multiple of 5\n700 is a multiple of 5\n705 is a multiple of 5\n710 is a multiple of 5\n715 is a multiple of 5\n720 is a multiple of 5\n725 is a multiple of 5\n730 is a multiple of 5\n735 is a multiple of 5\n740 is a multiple of 5\n745 is a multiple of 5\n750 is a multiple of 5\n755 is a multiple of 5\n760 is a multiple of 5\n765 is a multiple of 5\n770 is a multiple of 5\n775 is a multiple of 5\n780 is a multiple of 5\n785 is a multiple of 5\n790 is a multiple of 5\n795 is a multiple of 5\n800 is a multiple of 5\n805 is a multiple of 5\n810 is a multiple of 5\n815 is a multiple of 5\n820 is a multiple of 5\n825 is a multiple of 5\n830 is a multiple of 5\n835 is a multiple of 5\n840 is a multiple of 5\n845 is a multiple of 5\n850 is a multiple of 5\n855 is a multiple of 5\n860 is a multiple of 5\n865 is a multiple of 5\n870 is a multiple of 5\n875 is a multiple of 5\n880 is a multiple of 5\n885 is a multiple of 5\n890 is a multiple of 5\n895 is a multiple of 5\n900 is a multiple of 5\n905 is a multiple of 5\n910 is a multiple of 5\n915 is a multiple of 5\n920 is a multiple of 5\n925 is a multiple of 5\n930 is a multiple of 5\n935 is a multiple of 5\n940 is a multiple of 5\n945 is a multiple of 5\n950 is a multiple of 5\n955 is a multiple of 5\n960 is a multiple of 5\n965 is a multiple of 5\n970 is a multiple of 5\n975 is a multiple of 5\n980 is a multiple of 5\n985 is a multiple of 5\n990 is a multiple of 5\n995 is a multiple of 5\ntotal even numbers = 5 total odd numbers = 6\n[11, 10, 9, 8, 7, 6, 5, 4, 3, 2, 1]\n"
     ]
    }
   ],
   "source": [
    "#1. Write a program using for loop to print all even numbers from 1 to 100.\n",
    "\n",
    "evennum = range(1,100)\n",
    "for num in evennum:\n",
    "    if num % 2 == 0:\n",
    "      print(num, end = \" \")\n",
    "\n",
    "#2. Write a program using for loop to print all odd numbers from 1 to 100.\n",
    "\n",
    "oddnum = range(1,100)\n",
    "for num in oddnum:\n",
    "    if num % 2 != 0:\n",
    "        print(num, end = \" \")\n",
    "\n",
    "#3. Write a program using while loop to print all prime numbers from 1 to 100.\n",
    "\n",
    "#4 Write a program to calculate area of the triangle s1 = 10, s2 = 20, s3 = 30\n",
    "\n",
    " \n",
    "\n",
    "\n",
    "\n",
    "#5.Write a Python program to find those numbers which are divisible by 7 between 1 and 1000\n",
    "\n",
    "for i in range(1,1000):\n",
    "  if i % 7 == 0:\n",
    "    print(i,'is divisible by 7')\n",
    "\n",
    "#6.Write a Python program to find those numbers which are multiple of 5 between 1 and  1000  \n",
    "\n",
    "for j in range(1,1000):\n",
    "  if j % 5 == 0:\n",
    "    print(j,'is a multiple of 5')\n",
    "#7.Write a Python program to count the number of even and odd numbers from a series of numbers  -  numlist = [1,2,3,4,5,6,7,8,9,10,11]\n",
    "\n",
    "evencount = 0\n",
    "oddcount = 0\n",
    "\n",
    "numlist = [1,2,3,4,5,6,7,8,9,10,11]\n",
    "for x in numlist:\n",
    "  if x % 2 == 0:\n",
    "    evencount = evencount + 1\n",
    "  else:\n",
    "    oddcount += 1 \n",
    "\n",
    "print('total even numbers =',evencount,'total odd numbers =',oddcount)\n",
    "    \n",
    "#8.Write a python program to Reverse the following list using for loop -  numlist = [1,2,3,4,5,6,7,8,9,10,11]\n",
    "\n",
    "numlist = [1,2,3,4,5,6,7,8,9,10,11]\n",
    "\n",
    "#numlist.reverse()\n",
    "#print(numlist)"
   ]
  }
 ]
}