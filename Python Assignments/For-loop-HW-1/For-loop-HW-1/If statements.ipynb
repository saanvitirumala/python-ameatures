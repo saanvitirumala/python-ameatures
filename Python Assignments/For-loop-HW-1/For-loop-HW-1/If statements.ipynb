{
 "metadata": {
  "language_info": {
   "codemirror_mode": {
    "name": "ipython",
    "version": 3
   },
   "file_extension": ".py",
   "mimetype": "text/x-python",
   "name": "python",
   "nbconvert_exporter": "python",
   "pygments_lexer": "ipython3",
   "version": "3.8.5-final"
  },
  "orig_nbformat": 2,
  "kernelspec": {
   "name": "python3",
   "display_name": "Python 3",
   "language": "python"
  }
 },
 "nbformat": 4,
 "nbformat_minor": 2,
 "cells": [
  {
   "cell_type": "code",
   "execution_count": 2,
   "metadata": {},
   "outputs": [
    {
     "output_type": "stream",
     "name": "stdout",
     "text": [
      "2 4 6 8 10 12 14 16 18 20 22 24 26 28 30 32 34 36 38 40 42 44 46 48 50 52 54 56 58 60 62 64 66 68 70 72 74 76 78 80 82 84 86 88 90 92 94 96 98 1 3 5 7 9 11 13 15 17 19 21 23 25 27 29 31 33 35 37 39 41 43 45 47 49 51 53 55 57 59 61 63 65 67 69 71 73 75 77 79 81 83 85 87 89 91 93 95 97 99 "
     ]
    }
   ],
   "source": [
    "#1. Write a program using for loop to print all even numbers from 1 to 100.\n",
    "\n",
    "evennum = range(1,100)\n",
    "for num in evennum:\n",
    "    if num % 2 == 0:\n",
    "      print(num, end = \" \")\n",
    "\n",
    "#2. Write a program using for loop to print all odd numbers from 1 to 100.\n",
    "\n",
    "oddnum = range(1,100)\n",
    "for num in oddnum:\n",
    "    if num % 2 != 0:\n",
    "        print(num, end = \" \")\n",
    "\n",
    "#3. Write a program using while loop to print all prime numbers from 1 to 100.\n",
    "\n",
    "\n",
    "primnum = range(1,100)\n",
    "while num in primnum:\n",
    "    if num % "
   ]
  }
 ]
}