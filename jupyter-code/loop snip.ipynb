{
 "metadata": {
  "language_info": {
   "codemirror_mode": {
    "name": "ipython",
    "version": 3
   },
   "file_extension": ".py",
   "mimetype": "text/x-python",
   "name": "python",
   "nbconvert_exporter": "python",
   "pygments_lexer": "ipython3",
   "version": "3.8.5-final"
  },
  "orig_nbformat": 2,
  "kernelspec": {
   "name": "python3",
   "display_name": "Python 3",
   "language": "python"
  }
 },
 "nbformat": 4,
 "nbformat_minor": 2,
 "cells": [
  {
   "cell_type": "code",
   "execution_count": 20,
   "metadata": {},
   "outputs": [
    {
     "output_type": "stream",
     "name": "stdout",
     "text": [
      "abc\nabc\n"
     ]
    }
   ],
   "source": [
    "\n",
    "\n",
    "star='*';\n",
    "space=' ';\n",
    "\n",
    "n=3;\n",
    "\n",
    "for i in range (1,n+1):  # list [1,2,3]  outer loop\n",
    "    space='';\n",
    "    for j in range(1,i+1): # innerlist[1,4]  inner loop\n",
    "        space=space+star;\n",
    "    \n",
    "    print(i,space);\n",
    " \n",
    "\n",
    "\n"
   ]
  },
  {
   "cell_type": "code",
   "execution_count": null,
   "metadata": {},
   "outputs": [],
   "source": []
  }
 ]
}