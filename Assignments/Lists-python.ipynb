{
 "metadata": {
  "language_info": {
   "codemirror_mode": {
    "name": "ipython",
    "version": 3
   },
   "file_extension": ".py",
   "mimetype": "text/x-python",
   "name": "python",
   "nbconvert_exporter": "python",
   "pygments_lexer": "ipython3",
   "version": "3.9.0-final"
  },
  "orig_nbformat": 2,
  "kernelspec": {
   "name": "python3",
   "display_name": "Python 3.9.0 64-bit",
   "metadata": {
    "interpreter": {
     "hash": "63fd5069d213b44bf678585dea6b12cceca9941eaf7f819626cde1f2670de90d"
    }
   }
  }
 },
 "nbformat": 4,
 "nbformat_minor": 2,
 "cells": [
  {
   "cell_type": "code",
   "execution_count": 22,
   "metadata": {},
   "outputs": [
    {
     "output_type": "stream",
     "name": "stdout",
     "text": [
      "False\nTrue\nFalse\nTrue\nTrue\nTrue\nFalse\nFalse\nTrue\nTrue\nFalse\nTrue\nTrue\n<class 'set'>\n4\n3\n2\n4\napple\ncherry\norange\nbanana\ncherry\norange\nkiwi\nmelon\nmango\n"
     ]
    }
   ],
   "source": [
    "x = True\n",
    "y = False\n",
    "\n",
    "print(x and y)\n",
    "print(x or y)\n",
    "print(not x)\n",
    "print(not y)  \n",
    "\n",
    "x = 5\n",
    "print(x > 4 and x < 11)\n",
    "print(x > 3 or x < 4)\n",
    "print(not(x > 3 and x < 10))\n",
    "\n",
    "x = 100\n",
    "print(x > 40 and x < 90)\n",
    "print(x > 30 or x < 400)\n",
    "print(not(x > 3 and x < 10))\n",
    "\n",
    "x = 100\n",
    "print(x > 40 and x < 90)\n",
    "print(x > 30 or x < 400)\n",
    "print(not(x > 3 and x < 10))\n",
    "\n",
    "#Answer to question 1: A list is a series of items\n",
    "\n",
    "schoollist={\"pencils\",\"lined-paper\",\"notebook\",\"pen\",\"Backpack\"}\n",
    "print(type(schoollist))\n",
    "\n",
    "list1={\"apple\",\"banana\",\"plum\"}\n",
    "list2={\"2\",\"4\",\"6\",\"8\"}\n",
    "list3={False,True,False}\n",
    "print(len(list2))\n",
    "print(len(list1))\n",
    "print(len(list3))\n",
    "\n",
    "thislist = [\"orange\", \"apple\", \"banana\", \"cherry\"]  \n",
    "print(len(thislist))\n",
    "print(thislist[1])\n",
    "print(thislist[3])\n",
    "print(thislist[0])\n",
    "\n",
    "thislist = [\"apple\", \"banana\", \"cherry\", \"orange\", \"kiwi\", \"melon\", \"mango\"]\n",
    "print(thislist[1])\n",
    "print(thislist[2])\n",
    "print(thislist[3])\n",
    "print(thislist[4])\n",
    "print(thislist[5])\n",
    "print(thislist[6])\n",
    "\n",
    "\n"
   ]
  }
 ]
}