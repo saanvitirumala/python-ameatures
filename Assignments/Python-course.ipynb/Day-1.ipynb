{
 "metadata": {
  "language_info": {
   "codemirror_mode": {
    "name": "ipython",
    "version": 3
   },
   "file_extension": ".py",
   "mimetype": "text/x-python",
   "name": "python",
   "nbconvert_exporter": "python",
   "pygments_lexer": "ipython3",
   "version": "3.8.5-final"
  },
  "orig_nbformat": 2,
  "kernelspec": {
   "name": "python3",
   "display_name": "Python 3.8.5 64-bit",
   "metadata": {
    "interpreter": {
     "hash": "31f2aee4e71d21fbe5cf8b01ff0e069b9275f58929596ceb00d14d90e3e16cd6"
    }
   }
  }
 },
 "nbformat": 4,
 "nbformat_minor": 2,
 "cells": [
  {
   "cell_type": "code",
   "execution_count": 10,
   "metadata": {},
   "outputs": [
    {
     "output_type": "stream",
     "name": "stdout",
     "text": [
      "Total of ages = : 27\nSaanvi's full name: ('Saanvi ', 'Tirumala')\n~Beverage in Bottles~\nsaanvi_bottle - Gingerale\nsaharsh_bottle -Apple juice\n~Beverages after switch~\nsaanvi_bottle - Gingerale\nsaharsh_bottle -Gingerale\n"
     ]
    }
   ],
   "source": [
    "\n",
    "#Practice 1\n",
    "saanvi_age = 13\n",
    "saharsh_age = 9\n",
    "oscar_age = 5\n",
    "\n",
    "sum_of_age = saanvi_age + saharsh_age + oscar_age\n",
    "\n",
    "print(\"Total of ages = :\", sum_of_age)\n",
    "\n",
    "#Practice 2\n",
    "Saanvi_first_name = \"Saanvi\"\n",
    "saanvi_last_name = \"Tirumala\"\n",
    "\n",
    "saanvi_full_name = Saanvi_first_name + \" \", saanvi_last_name\n",
    "print(\"Saanvi's full name:\",saanvi_full_name)\n",
    "\n",
    "#Practice 3\n",
    "saanvi_bottle = \"Gingerale\"\n",
    "saharsh_bottle = \"Apple juice\"\n",
    "\n",
    "print(\"~Beverage in Bottles~\")\n",
    "\n",
    "print(\"saanvi_bottle - \"+ saanvi_bottle)\n",
    "print(\"saharsh_bottle -\"+ saharsh_bottle)\n",
    "\n",
    "\n",
    "tempbottle = saharsh_bottle\n",
    "saharsh_bottle = saanvi_bottle\n",
    "saanvi_bottle = tempbottle\n",
    "\n",
    "print(\"~Beverages after switch~\")\n",
    "\n",
    "print(\"saanvi_bottle - \"+ saanvi_bottle)\n",
    "print(\"saharsh_bottle -\"+ saharsh_bottle)\n",
    "\n"
   ]
  }
 ]
}